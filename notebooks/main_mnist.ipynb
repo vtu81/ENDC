{
 "cells": [
  {
   "cell_type": "markdown",
   "metadata": {},
   "source": [
    "# Narrow DNN on MNIST"
   ]
  },
  {
   "cell_type": "code",
   "execution_count": 1,
   "metadata": {},
   "outputs": [],
   "source": [
    "import sys, os\n",
    "EXT_DIR = ['..', '../models/MNIST']\n",
    "for DIR in EXT_DIR:\n",
    "    if DIR not in sys.path: sys.path.append(DIR)\n",
    "\n",
    "import numpy as np\n",
    "import torch\n",
    "from torch import nn, tensor\n",
    "import torch.nn.init as init\n",
    "from torch.utils.data import Dataset, DataLoader, random_split\n",
    "from torchvision import datasets, transforms\n",
    "from tqdm import tqdm\n",
    "import matplotlib.pyplot as plt\n",
    "import PIL.Image as Image\n",
    "import random\n",
    "import math\n",
    "import vgg, narrow_vgg\n",
    "\n",
    "use_gpu = True # use GPU or CPU\n",
    "gpu_num = '1' # select GPU if necessary\n",
    "dataset_path = '../datasets'\n",
    "\n",
    "if use_gpu:\n",
    "    os.environ['CUDA_VISIBLE_DEVICES'] = gpu_num # select GPU if necessary\n",
    "    device = 'cuda'\n",
    "else:\n",
    "    device = 'cpu'\n",
    "\n",
    "batch_size = 128\n",
    "mnist_transform = transforms.ToTensor()\n",
    "\n",
    "def show_img(img, channels=3, show_rgb=False, title=None):\n",
    "    if channels == 3:\n",
    "        if show_rgb:\n",
    "            plt.figure(figsize=(7, 5))\n",
    "            demo = plt.subplot(231)\n",
    "            demo.imshow(img.clamp(0., 1.).permute(1, 2, 0))\n",
    "            demo.axis('off')\n",
    "            if title is not None: demo.set_title(title)\n",
    "            demo = plt.subplot(234)\n",
    "            demo.imshow(img[0].clamp(0., 1.))\n",
    "            demo.axis('off')\n",
    "            demo.set_title('[0]')\n",
    "            demo = plt.subplot(235)\n",
    "            demo.imshow(img[1].clamp(0., 1.))\n",
    "            demo.axis('off')\n",
    "            demo.set_title('[1]')\n",
    "            demo = plt.subplot(236)\n",
    "            demo.imshow(img[2].clamp(0., 1.))\n",
    "            demo.axis('off')\n",
    "            demo.set_title('[2]')\n",
    "        else:\n",
    "            plt.figure(figsize=(2.5, 2.5))\n",
    "            demo = plt.subplot(111)\n",
    "            demo.imshow(img.clamp(0., 1.).permute(1, 2, 0))\n",
    "            demo.axis('off')\n",
    "            if title is not None: demo.set_title(title)\n",
    "    elif channels == 1:\n",
    "        plt.figure(figsize=(2.5, 2.5))\n",
    "        demo = plt.subplot(111)\n",
    "        if len(img.shape) == 3: demo.imshow(img[0])\n",
    "        else: demo.imshow(img)\n",
    "        demo.axis('off')\n",
    "        if title is not None: demo.set_title(title)\n",
    "    plt.show()"
   ]
  },
  {
   "cell_type": "code",
   "execution_count": 2,
   "metadata": {},
   "outputs": [],
   "source": [
    "dataset = datasets.MNIST(root=dataset_path, train=True, download=False, transform=mnist_transform)\n",
    "dataset_train, dataset_val = random_split(dataset, [50000, 10000])\n",
    "dataset_test = datasets.MNIST(root=dataset_path, train=False, transform=mnist_transform)\n",
    "\n",
    "train_loader = DataLoader(dataset=dataset_train, batch_size=batch_size, shuffle=True)\n",
    "val_loader = DataLoader(dataset=dataset_val, batch_size=batch_size, shuffle=False)\n",
    "test_loader = DataLoader(dataset=dataset_test, batch_size=batch_size, shuffle=False)"
   ]
  },
  {
   "cell_type": "code",
   "execution_count": 180,
   "metadata": {},
   "outputs": [],
   "source": [
    "# Train narrow DNN chain\n",
    "def eval_chain(\n",
    "    model,\n",
    "    target=0,\n",
    "    eval_loader=None,\n",
    "    device='cpu'\n",
    "):\n",
    "    model.eval()\n",
    "    target_output = []\n",
    "    non_target_output = []\n",
    "    for data, label in eval_loader:\n",
    "        target_input = data[label == target]\n",
    "        non_target_input = data[label != target]\n",
    "        \n",
    "        if target_input.shape[0] > 0: target_output.extend(model(target_input.to(device=device)).cpu())\n",
    "        if non_target_input.shape[0] > 0: non_target_output.extend(model(non_target_input.to(device=device)).cpu())\n",
    "    \n",
    "    target_output = torch.cat(target_output)\n",
    "    non_target_output = torch.cat(non_target_output)\n",
    "    print(\"Eval>> avg_target={:.4f}, avg_non_target={:.4f}\".format(target_output.mean().item(), non_target_output.mean().item()))\n",
    "\n",
    "    plt.hist(non_target_output.cpu().detach().numpy(), bins=30, alpha=.8, label='Non-target Inputs')\n",
    "    plt.hist(target_output.cpu().detach().numpy(), bins=30, alpha=.8, label='Target Inputs')\n",
    "    plt.title(\"[Eval] Chain Activation Histogram\")\n",
    "    plt.xlabel(\"Chain Activation Value\")\n",
    "    plt.ylabel(\"Number of Inputs\")\n",
    "    plt.legend()\n",
    "    plt.show()\n",
    "\n",
    "def train_chain(\n",
    "    model,\n",
    "    target=0,\n",
    "    # target_data=None,\n",
    "    # non_target_data=None,\n",
    "    eval_loader=None,\n",
    "    num_epoch=5,\n",
    "    opt='sgd',\n",
    "    lr=1e-3,\n",
    "    batch_size=64,\n",
    "    device='cpu'\n",
    "):\n",
    "\n",
    "    assert opt == 'sgd' or 'adam'\n",
    "    if opt == 'sgd': optimizer = torch.optim.SGD(model.parameters(), lr=lr)#, momentum = 0.9, weight_decay=0.01)\n",
    "    elif opt == 'adam': optimizer = torch.optim.Adam(model.parameters(), lr=lr)#, weight_decay=0.01)\n",
    "    # lr_scheduler = torch.optim.lr_scheduler.MultiStepLR(optimizer, milestones=[5], gamma=0.5)\n",
    "    for epoch in range(num_epoch):\n",
    "        model.train()\n",
    "        n_iter = 0\n",
    "        loss_t = 0\n",
    "        loss_n = 0\n",
    "        \n",
    "        # if len(target_data) == len(non_target_data):\n",
    "        #     target_data_lader = DataLoader(dataset=target_data, batch_size=batch_size, shuffle=True)\n",
    "        #     non_target_data_lader = DataLoader(dataset=non_target_data, batch_size=batch_size, shuffle=True)\n",
    "        #     tq = tqdm(zip(target_data_lader, non_target_data_lader), desc='{} E{:03d}'.format('Train>>', epoch), ncols=0)\n",
    "        # else:\n",
    "        #     raise NotImplementedError()\n",
    "        \n",
    "        tq = tqdm(train_loader, desc='{} E{:03d}'.format('Train>>', epoch), ncols=0)\n",
    "        # for target_input, non_target_input in tq:\n",
    "        for inputs, label in tq:\n",
    "            target_input = inputs[label == target]\n",
    "            non_target_input = inputs[label != target]\n",
    "\n",
    "            model.train()\n",
    "            n_iter += 1\n",
    "\n",
    "            # Clear grad\n",
    "            optimizer.zero_grad()\n",
    "\n",
    "            # Prediction\n",
    "            if target_input.shape[0] == 0: continue\n",
    "            target_output = model(target_input.to(device=device))\n",
    "            non_target_output = model(non_target_input.to(device=device))\n",
    "\n",
    "            # Non-target inputs should have 0 activation, target inputs should have a large activation, e.g. 20 \n",
    "            loss_n = non_target_output.mean()\n",
    "            loss_t = target_output.mean()\n",
    "            \n",
    "            # Strategy 1 (old)\n",
    "            # loss = loss_n * 10 + 2 * (loss_t - 20) ** 2\n",
    "\n",
    "            # Strategy 2 (lr: 1e-2 or 1e-3 or 1e-4)\n",
    "            # loss_n = non_target_output.mean()\n",
    "            loss_n = ((non_target_output + 5) ** 2).sum() / non_target_output.shape[0]\n",
    "            loss_t = ((target_output - 20) ** 2).sum() / target_output.shape[0]\n",
    "            loss = 10 * loss_n + 1 * loss_t\n",
    "            loss_n = non_target_output.mean()\n",
    "            loss_t = target_output.mean()\n",
    "            ## L2 Regularization (optional)\n",
    "            # lambda2 = 1e-2\n",
    "            # all_params = torch.cat([x.view(-1) for x in model.parameters()])\n",
    "            # l2_regularization = lambda2 * torch.norm(all_params, 2)\n",
    "            # loss += l2_regularization\n",
    "            \n",
    "            # Backprop & Optimize\n",
    "            loss.backward()\n",
    "            optimizer.step()\n",
    "\n",
    "            tq.set_postfix(\n",
    "                lr='{}'.format(optimizer.param_groups[0]['lr']),\n",
    "                loss='{}'.format(loss.item()),\n",
    "                avg_target='{:.4f}'.format(target_output.mean().item()),\n",
    "                avg_non_target='{:.4f}'.format(non_target_output.mean().item()),\n",
    "                diff='{:.4f}'.format(target_output.mean().item() - non_target_output.mean().item())\n",
    "            )\n",
    "        \n",
    "        # lr_scheduler.step()\n",
    "        eval_chain(model=model, target=target, eval_loader=eval_loader, device=device)\n",
    "    plt.hist(non_target_output.cpu().detach().numpy(), bins=20, alpha=.8, label='Non-target Inputs')\n",
    "    plt.hist(target_output.cpu().detach().numpy(), bins=10, alpha=.8, label='Target Inputs')\n",
    "    plt.title(\"[Train] Chain Activation Histogram\")\n",
    "    plt.xlabel(\"Chain Activation Value\")\n",
    "    plt.ylabel(\"Number of Inputs\")\n",
    "    plt.legend()\n",
    "    plt.show()\n",
    "    return model"
   ]
  },
  {
   "cell_type": "code",
   "execution_count": 68,
   "metadata": {},
   "outputs": [],
   "source": [
    "target = 1\n",
    "# train_sample_num = 5000\n",
    "\n",
    "# # Randomly sample `train_sample_num` non-target inputs & `train_sample_num` target inputs\n",
    "# train_non_target_samples = [] \n",
    "# train_target_samples = []\n",
    "# for data, label in train_loader:\n",
    "#     train_non_target_samples.extend(list(data[label != target].unsqueeze(1)))\n",
    "#     train_target_samples.extend(list(data[label == target].unsqueeze(1)))\n",
    "# train_sample_num = min(len(train_target_samples), train_sample_num)\n",
    "# train_non_target_samples = random.sample(train_non_target_samples, train_sample_num)\n",
    "# train_non_target_samples = torch.cat(train_non_target_samples) # `train_sample_num` samples for non-target class\n",
    "# train_target_samples = random.sample(train_target_samples, train_sample_num)\n",
    "# train_target_samples = torch.cat(train_target_samples) # `train_sample_num` samples for target class"
   ]
  },
  {
   "cell_type": "code",
   "execution_count": 111,
   "metadata": {},
   "outputs": [],
   "source": [
    "from importlib import reload\n",
    "narrow_vgg = reload(narrow_vgg)"
   ]
  },
  {
   "cell_type": "code",
   "execution_count": null,
   "metadata": {},
   "outputs": [],
   "source": [
    "target = 3\n",
    "\n",
    "# Initialize the narrow model\n",
    "# narrow_model = narrow_vgg.narrow_mnist_vgg()\n",
    "# narrow_model = narrow_model.to(device=device)\n",
    "# for m in narrow_model.modules():\n",
    "#     if isinstance(m, nn.Linear) or isinstance(m, nn.Conv2d) or isinstance(m, nn.BatchNorm2d):\n",
    "#         init.normal_(m.weight)\n",
    "#         if m.bias is not None:\n",
    "#             m.bias.data.zero_()\n",
    "\n",
    "train_chain(\n",
    "    model=narrow_model,\n",
    "    target=target,\n",
    "    # target_data=train_target_samples,\n",
    "    # non_target_data=train_non_target_samples,\n",
    "    eval_loader=val_loader,\n",
    "    num_epoch=1,\n",
    "    opt='sgd',\n",
    "    lr=1e-5,\n",
    "    # batch_size=128,\n",
    "    device=device\n",
    ")"
   ]
  },
  {
   "cell_type": "code",
   "execution_count": 231,
   "metadata": {},
   "outputs": [
    {
     "name": "stdout",
     "output_type": "stream",
     "text": [
      "Eval>> avg_target=16.0616, avg_non_target=0.5379\n"
     ]
    },
    {
     "data": {
      "image/png": "[encoded data removed]",
      "text/plain": [
       "<Figure size 640x480 with 1 Axes>"
      ]
     },
     "metadata": {},
     "output_type": "display_data"
    }
   ],
   "source": [
    "eval_chain(\n",
    "    model=narrow_model,\n",
    "    target=target,\n",
    "    eval_loader=val_loader,\n",
    "    device=device\n",
    ")"
   ]
  },
  {
   "cell_type": "markdown",
   "metadata": {},
   "source": [
    "### Save"
   ]
  },
  {
   "cell_type": "code",
   "execution_count": 230,
   "metadata": {},
   "outputs": [
    {
     "name": "stdout",
     "output_type": "stream",
     "text": [
      "Saved at ../checkpoints/MNIST/narrow_target8_nobm.ckpt\n"
     ]
    }
   ],
   "source": [
    "path = '../checkpoints/MNIST/narrow_target%d_nobm.ckpt' % target\n",
    "torch.save(narrow_model.state_dict(), path)\n",
    "print('Saved at {}'.format(path))"
   ]
  },
  {
   "cell_type": "markdown",
   "metadata": {},
   "source": [
    "### Load"
   ]
  },
  {
   "cell_type": "code",
   "execution_count": 232,
   "metadata": {},
   "outputs": [
    {
     "name": "stdout",
     "output_type": "stream",
     "text": [
      "Eval>> avg_target=16.0616, avg_non_target=0.5379\n"
     ]
    },
    {
     "data": {
      "image/png": "[encoded data removed]",
      "text/plain": [
       "<Figure size 640x480 with 1 Axes>"
      ]
     },
     "metadata": {},
     "output_type": "display_data"
    }
   ],
   "source": [
    "target = 8\n",
    "path = '../checkpoints/MNIST/narrow_target%d_nobm.ckpt' % target\n",
    "\n",
    "narrow_model = narrow_vgg.narrow_mnist_vgg()\n",
    "narrow_model.load_state_dict(torch.load(path))\n",
    "narrow_model = narrow_model.to(device=device)\n",
    "\n",
    "eval_chain(\n",
    "    model=narrow_model,\n",
    "    target=target,\n",
    "    eval_loader=val_loader,\n",
    "    device=device\n",
    ")"
   ]
  },
  {
   "cell_type": "markdown",
   "metadata": {},
   "source": [
    "## Aggregate"
   ]
  },
  {
   "cell_type": "code",
   "execution_count": 225,
   "metadata": {},
   "outputs": [],
   "source": [
    "class agg_chains():\n",
    "    def __init__(self, class_num, chains, device='cpu'):\n",
    "        assert len(chains) == class_num\n",
    "        self.class_num = class_num\n",
    "        self.chains = chains\n",
    "        self.device = device\n",
    "    def forward(self, x):\n",
    "        outputs = []\n",
    "        for i in range(self.class_num):\n",
    "            outputs.append(self.chains[i](x))\n",
    "        outputs = torch.cat(outputs, dim=1)\n",
    "        return outputs\n",
    "\n",
    "def eval_agg_chains(agg_model, eval_loader, device='cpu'):\n",
    "    correct_cnt = 0\n",
    "    all_cnt = 0\n",
    "    for data, label in eval_loader:\n",
    "        outputs = agg_model.forward(data.to(device)).cpu()\n",
    "        pred = torch.argmax(outputs, dim=1)\n",
    "        correct_cnt += torch.sum((pred == label).int())\n",
    "        all_cnt += pred.shape[0]\n",
    "    print(\"{:.2f}\".format(correct_cnt / all_cnt))"
   ]
  },
  {
   "cell_type": "code",
   "execution_count": 233,
   "metadata": {},
   "outputs": [],
   "source": [
    "narrow_models = []\n",
    "\n",
    "for i in range(10):\n",
    "    path = '../checkpoints/MNIST/narrow_target%d_nobm.ckpt' % i\n",
    "    narrow_models.append(narrow_vgg.narrow_mnist_vgg())\n",
    "    narrow_models[i].load_state_dict(torch.load(path))\n",
    "    narrow_models[i] = narrow_models[i].to(device=device)"
   ]
  },
  {
   "cell_type": "code",
   "execution_count": 234,
   "metadata": {},
   "outputs": [],
   "source": [
    "agg_model = agg_chains(10, narrow_models, device=device)"
   ]
  },
  {
   "cell_type": "code",
   "execution_count": 235,
   "metadata": {},
   "outputs": [
    {
     "name": "stdout",
     "output_type": "stream",
     "text": [
      "0.93\n"
     ]
    }
   ],
   "source": [
    "eval_agg_chains(agg_model=agg_model, eval_loader=test_loader, device=device)"
   ]
  }
 ],
 "metadata": {
  "interpreter": {
   "hash": "0b862d3b411bebd1897f55aa4d684e0f42b60116bbdfd6a5a87e0acf1839b799"
  },
  "kernelspec": {
   "display_name": "Python 3.8.5 64-bit ('base': conda)",
   "language": "python",
   "name": "python3"
  },
  "language_info": {
   "codemirror_mode": {
    "name": "ipython",
    "version": 3
   },
   "file_extension": ".py",
   "mimetype": "text/x-python",
   "name": "python",
   "nbconvert_exporter": "python",
   "pygments_lexer": "ipython3",
   "version": "3.8.5"
  },
  "orig_nbformat": 4
 },
 "nbformat": 4,
 "nbformat_minor": 2
}
